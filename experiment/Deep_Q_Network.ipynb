{
 "cells": [
  {
   "cell_type": "markdown",
   "metadata": {},
   "source": [
    "# Deep Q-Network (DQN)\n",
    "---\n",
    "In this notebook, you will implement a DQN agent with OpenAI Gym's LunarLander-v2 environment.\n",
    "\n",
    "### 1. Import the Necessary Packages"
   ]
  },
  {
   "cell_type": "code",
   "execution_count": 1,
   "metadata": {
    "collapsed": false
   },
   "outputs": [],
   "source": [
    "import retro\n",
    "from retro_contest.local import make\n",
    "from sonic_util import make_env\n",
    "import random\n",
    "import torch\n",
    "import numpy as np\n",
    "from collections import deque\n",
    "import matplotlib.pyplot as plt\n",
    "%matplotlib inline"
   ]
  },
  {
   "cell_type": "markdown",
   "metadata": {},
   "source": [
    "### 2. Instantiate the Environment and Agent\n",
    "\n",
    "Initialize the environment in the code cell below."
   ]
  },
  {
   "cell_type": "code",
   "execution_count": 2,
   "metadata": {
    "collapsed": false
   },
   "outputs": [],
   "source": [
    "env = make(game='SonicTheHedgehog-Genesis', state='LabyrinthZone.Act1')\n",
    "# env = retro.make(game='SonicTheHedgehog-Genesis', state='GreenHillZone.Act1', record=True)\n",
    "# env = make_env(stack=False, scale_rew=False)"
   ]
  },
  {
   "cell_type": "code",
   "execution_count": 3,
   "metadata": {
    "collapsed": false
   },
   "outputs": [
    {
     "name": "stdout",
     "output_type": "stream",
     "text": [
      "State shape:  [224, 320, 3]\n",
      "Number of actions:  (1, 12)\n"
     ]
    }
   ],
   "source": [
    "# env.seed(0)\n",
    "state_space = list(env.observation_space.shape)\n",
    "action_space = env.action_space.n\n",
    "print('State shape: ', state_space)\n",
    "print('Number of actions: ', (1, action_space))"
   ]
  },
  {
   "cell_type": "markdown",
   "metadata": {},
   "source": [
    "Please refer to the instructions in `Deep_Q_Network.ipynb` if you would like to write your own DQN agent.  Otherwise, run the code cell below to load the solution files."
   ]
  },
  {
   "cell_type": "code",
   "execution_count": 4,
   "metadata": {
    "collapsed": false
   },
   "outputs": [
    {
     "name": "stdout",
     "output_type": "stream",
     "text": [
      "cuda:1\n",
      "QNetwork(\n",
      "  (conv1): Conv2d(3, 20, kernel_size=(2, 2), stride=(1, 1))\n",
      "  (conv2): Conv2d(20, 20, kernel_size=(4, 4), stride=(1, 1))\n",
      "  (fc1): Linear(in_features=1390400, out_features=64, bias=True)\n",
      "  (fc2): Linear(in_features=64, out_features=64, bias=True)\n",
      "  (fc3): Linear(in_features=64, out_features=12, bias=True)\n",
      ")\n",
      "QNetwork(\n",
      "  (conv1): Conv2d(3, 20, kernel_size=(2, 2), stride=(1, 1))\n",
      "  (conv2): Conv2d(20, 20, kernel_size=(4, 4), stride=(1, 1))\n",
      "  (fc1): Linear(in_features=1390400, out_features=64, bias=True)\n",
      "  (fc2): Linear(in_features=64, out_features=64, bias=True)\n",
      "  (fc3): Linear(in_features=64, out_features=12, bias=True)\n",
      ")\n"
     ]
    }
   ],
   "source": [
    "from dqn_agent import Agent\n",
    "\n",
    "agent = Agent(state_size=state_space, action_size=action_space, seed=0, multi_action=True)"
   ]
  },
  {
   "cell_type": "code",
   "execution_count": null,
   "metadata": {
    "collapsed": false
   },
   "outputs": [],
   "source": [
    "# load the weights from file\n",
    "agent.qnetwork_local.load_state_dict(torch.load('step_checkpoint.pth'))"
   ]
  },
  {
   "cell_type": "code",
   "execution_count": null,
   "metadata": {
    "collapsed": false
   },
   "outputs": [
    {
     "name": "stdout",
     "output_type": "stream",
     "text": [
      "Total score for this episode 2321.8373\n"
     ]
    }
   ],
   "source": [
    "# watch an untrained agent\n",
    "window = []\n",
    "n_epsiode = 10\n",
    "for _ in range(n_epsiode):\n",
    "    state = env.reset()\n",
    "    total_score = 0\n",
    "    for j in range(4500):\n",
    "        state = state.reshape(state_space[2], state_space[0], state_space[1])\n",
    "    #     print(state.shape)\n",
    "        action = agent.act(state)\n",
    "    #     print(action)\n",
    "#         env.render()\n",
    "        state, reward, done, _ = env.step(action)\n",
    "        total_score += reward\n",
    "        if done:\n",
    "            break\n",
    "    window.append(total_score)\n",
    "    print('Total score for this episode {:.4f}'.format(total_score))\n",
    "print('Avg score {.4f}'.format(np.mean(window)))"
   ]
  },
  {
   "cell_type": "code",
   "execution_count": null,
   "metadata": {
    "collapsed": true
   },
   "outputs": [],
   "source": [
    "# watch an untrained agent\n",
    "window = []\n",
    "n_epsiode = 10\n",
    "for _ in range(n_epsiode):\n",
    "    state = env.reset()\n",
    "    total_score = 0\n",
    "    for j in range(4500):\n",
    "        state = state.reshape(state_space[2], state_space[0], state_space[1])\n",
    "    #     print(state.shape)\n",
    "        if np.random.uniform() < 0.9:\n",
    "            action = agent.act(state)\n",
    "        else:\n",
    "            action = env.action_space.sample()\n",
    "    #     print(action)\n",
    "#         env.render()\n",
    "        state, reward, done, _ = env.step(action)\n",
    "        total_score += reward\n",
    "        if done:\n",
    "            break\n",
    "    window.append(total_score)\n",
    "    print('Total score for this episode {:.4f}'.format(total_score))\n",
    "print('Avg score {.4f}'.format(np.mean(window)))"
   ]
  },
  {
   "cell_type": "code",
   "execution_count": null,
   "metadata": {
    "collapsed": true
   },
   "outputs": [],
   "source": []
  }
 ],
 "metadata": {
  "anaconda-cloud": {},
  "kernelspec": {
   "display_name": "Python [rtx]",
   "language": "python",
   "name": "Python [rtx]"
  },
  "language_info": {
   "codemirror_mode": {
    "name": "ipython",
    "version": 3
   },
   "file_extension": ".py",
   "mimetype": "text/x-python",
   "name": "python",
   "nbconvert_exporter": "python",
   "pygments_lexer": "ipython3",
   "version": "3.6.7"
  }
 },
 "nbformat": 4,
 "nbformat_minor": 2
}
